{
 "cells": [
  {
   "cell_type": "code",
   "execution_count": 42,
   "metadata": {},
   "outputs": [],
   "source": [
    "import numpy as np\n",
    "import pandas as pd\n",
    "import matplotlib.pyplot as plt\n",
    "import copy\n",
    "import pickle\n",
    "from tqdm import tqdm\n",
    "from model import match_model"
   ]
  },
  {
   "cell_type": "code",
   "execution_count": 43,
   "metadata": {},
   "outputs": [
    {
     "name": "stdout",
     "output_type": "stream",
     "text": [
      "Training Data length: 413909\n",
      "Test Data length: 45990\n"
     ]
    },
    {
     "data": {
      "text/html": [
       "<div>\n",
       "<style scoped>\n",
       "    .dataframe tbody tr th:only-of-type {\n",
       "        vertical-align: middle;\n",
       "    }\n",
       "\n",
       "    .dataframe tbody tr th {\n",
       "        vertical-align: top;\n",
       "    }\n",
       "\n",
       "    .dataframe thead th {\n",
       "        text-align: right;\n",
       "    }\n",
       "</style>\n",
       "<table border=\"1\" class=\"dataframe\">\n",
       "  <thead>\n",
       "    <tr style=\"text-align: right;\">\n",
       "      <th></th>\n",
       "      <th>wr delta</th>\n",
       "      <th>rating delta</th>\n",
       "      <th>pps delta</th>\n",
       "      <th>vs delta</th>\n",
       "    </tr>\n",
       "    <tr>\n",
       "      <th>count</th>\n",
       "      <th></th>\n",
       "      <th></th>\n",
       "      <th></th>\n",
       "      <th></th>\n",
       "    </tr>\n",
       "  </thead>\n",
       "  <tbody>\n",
       "    <tr>\n",
       "      <th>123378</th>\n",
       "      <td>0.465225</td>\n",
       "      <td>0.522852</td>\n",
       "      <td>0.501910</td>\n",
       "      <td>0.537927</td>\n",
       "    </tr>\n",
       "    <tr>\n",
       "      <th>376917</th>\n",
       "      <td>0.419163</td>\n",
       "      <td>0.487488</td>\n",
       "      <td>0.500382</td>\n",
       "      <td>0.593085</td>\n",
       "    </tr>\n",
       "    <tr>\n",
       "      <th>277366</th>\n",
       "      <td>0.485922</td>\n",
       "      <td>0.623664</td>\n",
       "      <td>0.503438</td>\n",
       "      <td>0.585284</td>\n",
       "    </tr>\n",
       "    <tr>\n",
       "      <th>251779</th>\n",
       "      <td>0.468625</td>\n",
       "      <td>0.443679</td>\n",
       "      <td>0.510313</td>\n",
       "      <td>0.531275</td>\n",
       "    </tr>\n",
       "    <tr>\n",
       "      <th>350465</th>\n",
       "      <td>0.479748</td>\n",
       "      <td>0.461640</td>\n",
       "      <td>0.498090</td>\n",
       "      <td>0.541540</td>\n",
       "    </tr>\n",
       "    <tr>\n",
       "      <th>...</th>\n",
       "      <td>...</td>\n",
       "      <td>...</td>\n",
       "      <td>...</td>\n",
       "      <td>...</td>\n",
       "    </tr>\n",
       "    <tr>\n",
       "      <th>379926</th>\n",
       "      <td>0.421387</td>\n",
       "      <td>0.574602</td>\n",
       "      <td>0.505730</td>\n",
       "      <td>0.582601</td>\n",
       "    </tr>\n",
       "    <tr>\n",
       "      <th>217590</th>\n",
       "      <td>0.444649</td>\n",
       "      <td>0.567816</td>\n",
       "      <td>0.476700</td>\n",
       "      <td>0.540856</td>\n",
       "    </tr>\n",
       "    <tr>\n",
       "      <th>286460</th>\n",
       "      <td>0.465479</td>\n",
       "      <td>0.571988</td>\n",
       "      <td>0.491979</td>\n",
       "      <td>0.587309</td>\n",
       "    </tr>\n",
       "    <tr>\n",
       "      <th>343200</th>\n",
       "      <td>0.472626</td>\n",
       "      <td>0.424928</td>\n",
       "      <td>0.498090</td>\n",
       "      <td>0.534779</td>\n",
       "    </tr>\n",
       "    <tr>\n",
       "      <th>396299</th>\n",
       "      <td>0.472902</td>\n",
       "      <td>0.550548</td>\n",
       "      <td>0.508785</td>\n",
       "      <td>0.590238</td>\n",
       "    </tr>\n",
       "  </tbody>\n",
       "</table>\n",
       "<p>413909 rows × 4 columns</p>\n",
       "</div>"
      ],
      "text/plain": [
       "        wr delta  rating delta  pps delta  vs delta\n",
       "count                                              \n",
       "123378  0.465225      0.522852   0.501910  0.537927\n",
       "376917  0.419163      0.487488   0.500382  0.593085\n",
       "277366  0.485922      0.623664   0.503438  0.585284\n",
       "251779  0.468625      0.443679   0.510313  0.531275\n",
       "350465  0.479748      0.461640   0.498090  0.541540\n",
       "...          ...           ...        ...       ...\n",
       "379926  0.421387      0.574602   0.505730  0.582601\n",
       "217590  0.444649      0.567816   0.476700  0.540856\n",
       "286460  0.465479      0.571988   0.491979  0.587309\n",
       "343200  0.472626      0.424928   0.498090  0.534779\n",
       "396299  0.472902      0.550548   0.508785  0.590238\n",
       "\n",
       "[413909 rows x 4 columns]"
      ]
     },
     "execution_count": 43,
     "metadata": {},
     "output_type": "execute_result"
    }
   ],
   "source": [
    "# Load data\n",
    "processed_data = pd.read_csv('./final_data.csv', index_col='count')\n",
    "\n",
    "training_data = processed_data.sample(frac=0.9, random_state=200)\n",
    "test_data = processed_data.drop(training_data.index).sample(frac=1.0, random_state=203)\n",
    "\n",
    "X_train_df = training_data.drop('winner', axis=1)\n",
    "y_train_df = training_data.drop(X_train_df.columns, axis=1)\n",
    "\n",
    "X_train = X_train_df.to_numpy()\n",
    "y_train = y_train_df.to_numpy().flatten()\n",
    "\n",
    "print(f\"Training Data length: {len(training_data)}\")\n",
    "print(f\"Test Data length: {len(test_data)}\")\n",
    "X_train_df"
   ]
  },
  {
   "cell_type": "code",
   "execution_count": 44,
   "metadata": {},
   "outputs": [],
   "source": [
    "def make_prediction(row, w, b):\n",
    "    z = np.dot(row, w) + b\n",
    "    return 1 / (1 + np.exp(-z))"
   ]
  },
  {
   "cell_type": "code",
   "execution_count": 45,
   "metadata": {},
   "outputs": [],
   "source": [
    "def compute_loss(row, w, b, y):\n",
    "    pred = make_prediction(row, w, b)\n",
    "    return -y * (np.log(pred)) - (1-y) * (np.log(1-pred))"
   ]
  },
  {
   "cell_type": "code",
   "execution_count": 46,
   "metadata": {},
   "outputs": [],
   "source": [
    "def compute_cost(X_data, w, b, y_data):\n",
    "    m = X_data.shape[0]\n",
    "    cost = 0\n",
    "    for i in range(m):\n",
    "        cost += compute_loss(X_data[i], w, b, y_data[i])\n",
    "    cost /= m\n",
    "\n",
    "    return cost"
   ]
  },
  {
   "cell_type": "code",
   "execution_count": 47,
   "metadata": {},
   "outputs": [],
   "source": [
    "def compute_gradient(X_data, w, b, y_data):\n",
    "    m,n = X_data.shape\n",
    "\n",
    "    dj_dw = np.zeros((n,))\n",
    "    dj_db = 0\n",
    "\n",
    "    for i in range(m):\n",
    "        err_i = make_prediction(X_data[i], w, b) - y_data[i]\n",
    "\n",
    "        for j in range(n):\n",
    "            dj_dw[j] += err_i * X_data[i,j]\n",
    "        dj_db += err_i\n",
    "    \n",
    "    dj_dw /= m\n",
    "    dj_db /= m\n",
    "\n",
    "    return dj_dw, dj_db"
   ]
  },
  {
   "cell_type": "code",
   "execution_count": 48,
   "metadata": {},
   "outputs": [],
   "source": [
    "def grad_desc(X_data, w, b, y_data, alpha, num_iters):\n",
    "    cost_hist = []\n",
    "    w_final = copy.deepcopy(w)\n",
    "    b_final = b\n",
    "\n",
    "    for i in tqdm(range(num_iters)):\n",
    "        dj_dw, dj_db = compute_gradient(X_data, w_final, b_final, y_data)\n",
    "        w_final -= alpha * dj_dw\n",
    "        b_final -= alpha * dj_db\n",
    "        \n",
    "        cost_hist.append(compute_cost(X_data, w_final, b_final, y_data))\n",
    "\n",
    "        if i % (num_iters // 10) == 0:\n",
    "            print(f\"Iteration {i:4d}: Cost {cost_hist[i]}\")\n",
    "    return w_final, b_final, cost_hist"
   ]
  },
  {
   "cell_type": "code",
   "execution_count": 49,
   "metadata": {},
   "outputs": [
    {
     "name": "stderr",
     "output_type": "stream",
     "text": [
      "  0%|          | 1/10000 [00:03<9:28:59,  3.41s/it]"
     ]
    },
    {
     "name": "stdout",
     "output_type": "stream",
     "text": [
      "Iteration    0: Cost 0.6929993672038822\n"
     ]
    },
    {
     "name": "stderr",
     "output_type": "stream",
     "text": [
      " 10%|█         | 1001/10000 [42:22<6:18:43,  2.53s/it]"
     ]
    },
    {
     "name": "stdout",
     "output_type": "stream",
     "text": [
      "Iteration 1000: Cost 0.6447594303098639\n"
     ]
    },
    {
     "name": "stderr",
     "output_type": "stream",
     "text": [
      " 20%|██        | 2001/10000 [1:24:15<5:34:50,  2.51s/it]"
     ]
    },
    {
     "name": "stdout",
     "output_type": "stream",
     "text": [
      "Iteration 2000: Cost 0.6333074463376679\n"
     ]
    },
    {
     "name": "stderr",
     "output_type": "stream",
     "text": [
      " 30%|███       | 3001/10000 [2:06:24<4:57:15,  2.55s/it]"
     ]
    },
    {
     "name": "stdout",
     "output_type": "stream",
     "text": [
      "Iteration 3000: Cost 0.6293854736631337\n"
     ]
    },
    {
     "name": "stderr",
     "output_type": "stream",
     "text": [
      " 40%|████      | 4001/10000 [2:48:40<4:12:31,  2.53s/it]"
     ]
    },
    {
     "name": "stdout",
     "output_type": "stream",
     "text": [
      "Iteration 4000: Cost 0.6277304927600059\n"
     ]
    },
    {
     "name": "stderr",
     "output_type": "stream",
     "text": [
      " 50%|█████     | 5001/10000 [3:30:56<3:30:28,  2.53s/it]"
     ]
    },
    {
     "name": "stdout",
     "output_type": "stream",
     "text": [
      "Iteration 5000: Cost 0.6269252242050674\n"
     ]
    },
    {
     "name": "stderr",
     "output_type": "stream",
     "text": [
      " 60%|██████    | 6001/10000 [4:13:10<2:49:33,  2.54s/it]"
     ]
    },
    {
     "name": "stdout",
     "output_type": "stream",
     "text": [
      "Iteration 6000: Cost 0.6264879886837486\n"
     ]
    },
    {
     "name": "stderr",
     "output_type": "stream",
     "text": [
      " 70%|███████   | 7001/10000 [4:55:24<2:06:03,  2.52s/it]"
     ]
    },
    {
     "name": "stdout",
     "output_type": "stream",
     "text": [
      "Iteration 7000: Cost 0.6262286419951457\n"
     ]
    },
    {
     "name": "stderr",
     "output_type": "stream",
     "text": [
      " 80%|████████  | 8001/10000 [5:37:38<1:24:28,  2.54s/it]"
     ]
    },
    {
     "name": "stdout",
     "output_type": "stream",
     "text": [
      "Iteration 8000: Cost 0.6260634597271267\n"
     ]
    },
    {
     "name": "stderr",
     "output_type": "stream",
     "text": [
      " 90%|█████████ | 9001/10000 [6:19:52<41:53,  2.52s/it]  "
     ]
    },
    {
     "name": "stdout",
     "output_type": "stream",
     "text": [
      "Iteration 9000: Cost 0.625952180592113\n"
     ]
    },
    {
     "name": "stderr",
     "output_type": "stream",
     "text": [
      "100%|██████████| 10000/10000 [7:01:59<00:00,  2.53s/it]"
     ]
    },
    {
     "name": "stdout",
     "output_type": "stream",
     "text": [
      "Updated Parameters: w = [-4.28023939 -8.96972009  0.83964405 -6.67464904], b = 9.866971050519266\n"
     ]
    },
    {
     "name": "stderr",
     "output_type": "stream",
     "text": [
      "\n"
     ]
    }
   ],
   "source": [
    "m, n = X_train.shape\n",
    "w_init = np.zeros((n,))\n",
    "b_init = 0.\n",
    "learning_rate = 1\n",
    "iterations = 10000\n",
    "\n",
    "w_fin, b_fin, cost_history = grad_desc(X_train, w_init, b_init, y_train, learning_rate, iterations)\n",
    "print(f'Updated Parameters: w = {w_fin}, b = {b_fin}')"
   ]
  },
  {
   "cell_type": "code",
   "execution_count": 53,
   "metadata": {},
   "outputs": [
    {
     "data": {
      "text/plain": [
       "[<matplotlib.lines.Line2D at 0x7f508cfdcac0>]"
      ]
     },
     "execution_count": 53,
     "metadata": {},
     "output_type": "execute_result"
    },
    {
     "data": {
      "image/png": "[encoded data removed]",
      "text/plain": [
       "<Figure size 640x480 with 1 Axes>"
      ]
     },
     "metadata": {},
     "output_type": "display_data"
    }
   ],
   "source": [
    "plt.plot(cost_history)"
   ]
  },
  {
   "cell_type": "code",
   "execution_count": 50,
   "metadata": {},
   "outputs": [
    {
     "name": "stdout",
     "output_type": "stream",
     "text": [
      "True Positive: 15159\n",
      "True Negative: 15330\n",
      "False Positive: 7754\n",
      "False Negative: 7747\n",
      "Precision: 0.6615894906821455\n",
      "Recall: 0.6617916703047236\n",
      "F1 Score: 0.6616905650494337\n"
     ]
    }
   ],
   "source": [
    "X_test_df = test_data.drop('winner', axis=1)\n",
    "y_test_df = test_data.drop(X_test_df.columns, axis=1)\n",
    "\n",
    "m = X_test_df.shape[0]\n",
    "X_test = X_test_df.to_numpy()\n",
    "y_test = y_test_df.to_numpy().flatten()\n",
    "\n",
    "true_positive = 0\n",
    "false_positive = 0\n",
    "true_negative = 0\n",
    "false_negative = 0\n",
    "pred_arr = []\n",
    "for i in range(m):\n",
    "    pred = make_prediction(X_test[i], w_fin, b_fin)\n",
    "    pred_arr.append(pred)\n",
    "    if pred >= 0.5:\n",
    "        pred = 1\n",
    "    else:\n",
    "        pred = 0\n",
    "    if (pred == 1 and y_test[i] == 1):\n",
    "        true_positive += 1\n",
    "    elif (pred == 1 and y_test[i] == 0):\n",
    "        false_positive += 1\n",
    "    elif (pred == 0 and y_test[i] == 0):\n",
    "        true_negative += 1\n",
    "    else:\n",
    "        false_negative += 1\n",
    "print(f\"True Positive: {true_positive}\")\n",
    "print(f\"True Negative: {true_negative}\")\n",
    "print(f\"False Positive: {false_positive}\")\n",
    "print(f\"False Negative: {false_negative}\")\n",
    "print(f\"Precision: {true_positive / (true_positive + false_positive)}\")\n",
    "print(f\"Recall: {true_positive / (true_positive + false_negative)}\")\n",
    "print(f\"F1 Score: {true_positive / (true_positive + 0.5*(false_positive + false_negative))}\")\n",
    "\n"
   ]
  },
  {
   "cell_type": "code",
   "execution_count": 51,
   "metadata": {},
   "outputs": [],
   "source": [
    "model = match_model(w_fin, b_fin)\n",
    "\n",
    "with open ('match_predict_model.pkl', 'wb') as f:\n",
    "    pickle.dump(model, f)"
   ]
  }
 ],
 "metadata": {
  "kernelspec": {
   "display_name": "Python 3",
   "language": "python",
   "name": "python3"
  },
  "language_info": {
   "codemirror_mode": {
    "name": "ipython",
    "version": 3
   },
   "file_extension": ".py",
   "mimetype": "text/x-python",
   "name": "python",
   "nbconvert_exporter": "python",
   "pygments_lexer": "ipython3",
   "version": "3.10.6"
  },
  "orig_nbformat": 4
 },
 "nbformat": 4,
 "nbformat_minor": 2
}
