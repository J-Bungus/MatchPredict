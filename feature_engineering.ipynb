{
 "cells": [
  {
   "cell_type": "code",
   "execution_count": 21,
   "metadata": {},
   "outputs": [],
   "source": [
    "import numpy as np\n",
    "import pandas as pd\n",
    "import matplotlib.pyplot as plt\n",
    "import seaborn as sns\n",
    "from statsmodels.stats.outliers_influence import variance_inflation_factor\n",
    "from tqdm import tqdm\n",
    "\n",
    "cm = sns.color_palette(\"coolwarm\", as_cmap=True)"
   ]
  },
  {
   "cell_type": "code",
   "execution_count": 22,
   "metadata": {},
   "outputs": [
    {
     "data": {
      "text/html": [
       "<div>\n",
       "<style scoped>\n",
       "    .dataframe tbody tr th:only-of-type {\n",
       "        vertical-align: middle;\n",
       "    }\n",
       "\n",
       "    .dataframe tbody tr th {\n",
       "        vertical-align: top;\n",
       "    }\n",
       "\n",
       "    .dataframe thead th {\n",
       "        text-align: right;\n",
       "    }\n",
       "</style>\n",
       "<table border=\"1\" class=\"dataframe\">\n",
       "  <thead>\n",
       "    <tr style=\"text-align: right;\">\n",
       "      <th></th>\n",
       "      <th>Features</th>\n",
       "      <th>vif score</th>\n",
       "    </tr>\n",
       "  </thead>\n",
       "  <tbody>\n",
       "    <tr>\n",
       "      <th>0</th>\n",
       "      <td>wr0</td>\n",
       "      <td>17.384420</td>\n",
       "    </tr>\n",
       "    <tr>\n",
       "      <th>1</th>\n",
       "      <td>rating0</td>\n",
       "      <td>16.840981</td>\n",
       "    </tr>\n",
       "    <tr>\n",
       "      <th>2</th>\n",
       "      <td>apm0</td>\n",
       "      <td>229.071913</td>\n",
       "    </tr>\n",
       "    <tr>\n",
       "      <th>3</th>\n",
       "      <td>pps0</td>\n",
       "      <td>44.261417</td>\n",
       "    </tr>\n",
       "    <tr>\n",
       "      <th>4</th>\n",
       "      <td>vs0</td>\n",
       "      <td>265.420226</td>\n",
       "    </tr>\n",
       "  </tbody>\n",
       "</table>\n",
       "</div>"
      ],
      "text/plain": [
       "  Features   vif score\n",
       "0      wr0   17.384420\n",
       "1  rating0   16.840981\n",
       "2     apm0  229.071913\n",
       "3     pps0   44.261417\n",
       "4      vs0  265.420226"
      ]
     },
     "execution_count": 22,
     "metadata": {},
     "output_type": "execute_result"
    }
   ],
   "source": [
    "cleaned_data = pd.read_csv('./cleaned.csv', index_col='count')\n",
    "features = ['wr0', 'rating0', 'apm0', 'pps0', 'vs0'] # does not include the '1' version of the stats because they are of two different players\n",
    "def compute_vif(df, features):    \n",
    "    vif = pd.DataFrame()\n",
    "    vif['Features'] = features\n",
    "    vif['vif score'] = [variance_inflation_factor(df, i) for i in range(len(features))]\n",
    "    return vif\n",
    "\n",
    "compute_vif(cleaned_data[features], features)"
   ]
  },
  {
   "attachments": {},
   "cell_type": "markdown",
   "metadata": {},
   "source": [
    "**Modify Features**\n",
    "* combine wr0 and wr1 into wr delta\n",
    "* combine rating0 and rating1 into rating delta\n",
    "* combine apm0 and apm1 into apm delta\n",
    "* combine pps0 and pps1 into pps delta\n",
    "* combine vs0 and vs1 into vs delta"
   ]
  },
  {
   "cell_type": "code",
   "execution_count": 23,
   "metadata": {},
   "outputs": [
    {
     "data": {
      "text/html": [
       "<div>\n",
       "<style scoped>\n",
       "    .dataframe tbody tr th:only-of-type {\n",
       "        vertical-align: middle;\n",
       "    }\n",
       "\n",
       "    .dataframe tbody tr th {\n",
       "        vertical-align: top;\n",
       "    }\n",
       "\n",
       "    .dataframe thead th {\n",
       "        text-align: right;\n",
       "    }\n",
       "</style>\n",
       "<table border=\"1\" class=\"dataframe\">\n",
       "  <thead>\n",
       "    <tr style=\"text-align: right;\">\n",
       "      <th></th>\n",
       "      <th>Features</th>\n",
       "      <th>vif score</th>\n",
       "    </tr>\n",
       "  </thead>\n",
       "  <tbody>\n",
       "    <tr>\n",
       "      <th>0</th>\n",
       "      <td>wr delta</td>\n",
       "      <td>1.203991</td>\n",
       "    </tr>\n",
       "    <tr>\n",
       "      <th>1</th>\n",
       "      <td>rating delta</td>\n",
       "      <td>1.710192</td>\n",
       "    </tr>\n",
       "    <tr>\n",
       "      <th>2</th>\n",
       "      <td>apm delta</td>\n",
       "      <td>12.131076</td>\n",
       "    </tr>\n",
       "    <tr>\n",
       "      <th>3</th>\n",
       "      <td>pps delta</td>\n",
       "      <td>1.205804</td>\n",
       "    </tr>\n",
       "    <tr>\n",
       "      <th>4</th>\n",
       "      <td>vs delta</td>\n",
       "      <td>13.534938</td>\n",
       "    </tr>\n",
       "  </tbody>\n",
       "</table>\n",
       "</div>"
      ],
      "text/plain": [
       "       Features  vif score\n",
       "0      wr delta   1.203991\n",
       "1  rating delta   1.710192\n",
       "2     apm delta  12.131076\n",
       "3     pps delta   1.205804\n",
       "4      vs delta  13.534938"
      ]
     },
     "execution_count": 23,
     "metadata": {},
     "output_type": "execute_result"
    }
   ],
   "source": [
    "\n",
    "cleaned_data['wr delta'] = cleaned_data['wr0'] - cleaned_data['wr1']\n",
    "cleaned_data['rating delta'] = cleaned_data['rating0'] - cleaned_data['rating1']\n",
    "cleaned_data['apm delta'] = cleaned_data['apm0'] - cleaned_data['apm1']\n",
    "cleaned_data['pps delta'] = cleaned_data['pps0'] - cleaned_data['pps1']\n",
    "cleaned_data['vs delta'] = cleaned_data['vs0'] - cleaned_data['vs1']\n",
    "\n",
    "features2 = ['wr delta', 'rating delta', 'apm delta', 'pps delta', 'vs delta']\n",
    "compute_vif(cleaned_data[features2], features2)"
   ]
  },
  {
   "attachments": {},
   "cell_type": "markdown",
   "metadata": {},
   "source": [
    "* Drop apm delta"
   ]
  },
  {
   "cell_type": "code",
   "execution_count": 24,
   "metadata": {},
   "outputs": [
    {
     "data": {
      "text/html": [
       "<div>\n",
       "<style scoped>\n",
       "    .dataframe tbody tr th:only-of-type {\n",
       "        vertical-align: middle;\n",
       "    }\n",
       "\n",
       "    .dataframe tbody tr th {\n",
       "        vertical-align: top;\n",
       "    }\n",
       "\n",
       "    .dataframe thead th {\n",
       "        text-align: right;\n",
       "    }\n",
       "</style>\n",
       "<table border=\"1\" class=\"dataframe\">\n",
       "  <thead>\n",
       "    <tr style=\"text-align: right;\">\n",
       "      <th></th>\n",
       "      <th>Features</th>\n",
       "      <th>vif score</th>\n",
       "    </tr>\n",
       "  </thead>\n",
       "  <tbody>\n",
       "    <tr>\n",
       "      <th>0</th>\n",
       "      <td>wr delta</td>\n",
       "      <td>1.203824</td>\n",
       "    </tr>\n",
       "    <tr>\n",
       "      <th>1</th>\n",
       "      <td>rating delta</td>\n",
       "      <td>1.553054</td>\n",
       "    </tr>\n",
       "    <tr>\n",
       "      <th>2</th>\n",
       "      <td>pps delta</td>\n",
       "      <td>1.168093</td>\n",
       "    </tr>\n",
       "    <tr>\n",
       "      <th>3</th>\n",
       "      <td>vs delta</td>\n",
       "      <td>1.541321</td>\n",
       "    </tr>\n",
       "  </tbody>\n",
       "</table>\n",
       "</div>"
      ],
      "text/plain": [
       "       Features  vif score\n",
       "0      wr delta   1.203824\n",
       "1  rating delta   1.553054\n",
       "2     pps delta   1.168093\n",
       "3      vs delta   1.541321"
      ]
     },
     "execution_count": 24,
     "metadata": {},
     "output_type": "execute_result"
    }
   ],
   "source": [
    "features3 = ['wr delta', 'rating delta', 'pps delta', 'vs delta']\n",
    "compute_vif(cleaned_data[features3], features3)"
   ]
  },
  {
   "cell_type": "code",
   "execution_count": 25,
   "metadata": {},
   "outputs": [
    {
     "data": {
      "text/html": [
       "<style type=\"text/css\">\n",
       "#T_7d5b4_row0_col0, #T_7d5b4_row1_col1, #T_7d5b4_row2_col2, #T_7d5b4_row3_col3 {\n",
       "  background-color: #b40426;\n",
       "  color: #f1f1f1;\n",
       "}\n",
       "#T_7d5b4_row0_col1 {\n",
       "  background-color: #6282ea;\n",
       "  color: #f1f1f1;\n",
       "}\n",
       "#T_7d5b4_row0_col2, #T_7d5b4_row0_col3, #T_7d5b4_row2_col0, #T_7d5b4_row2_col1 {\n",
       "  background-color: #3b4cc0;\n",
       "  color: #f1f1f1;\n",
       "}\n",
       "#T_7d5b4_row1_col0 {\n",
       "  background-color: #94b6ff;\n",
       "  color: #000000;\n",
       "}\n",
       "#T_7d5b4_row1_col2 {\n",
       "  background-color: #6e90f2;\n",
       "  color: #f1f1f1;\n",
       "}\n",
       "#T_7d5b4_row1_col3 {\n",
       "  background-color: #a5c3fe;\n",
       "  color: #000000;\n",
       "}\n",
       "#T_7d5b4_row2_col3 {\n",
       "  background-color: #5e7de7;\n",
       "  color: #f1f1f1;\n",
       "}\n",
       "#T_7d5b4_row3_col0 {\n",
       "  background-color: #7295f4;\n",
       "  color: #f1f1f1;\n",
       "}\n",
       "#T_7d5b4_row3_col1 {\n",
       "  background-color: #a7c5fe;\n",
       "  color: #000000;\n",
       "}\n",
       "#T_7d5b4_row3_col2 {\n",
       "  background-color: #93b5fe;\n",
       "  color: #000000;\n",
       "}\n",
       "</style>\n",
       "<table id=\"T_7d5b4\">\n",
       "  <thead>\n",
       "    <tr>\n",
       "      <th class=\"blank level0\" >&nbsp;</th>\n",
       "      <th id=\"T_7d5b4_level0_col0\" class=\"col_heading level0 col0\" >wr delta</th>\n",
       "      <th id=\"T_7d5b4_level0_col1\" class=\"col_heading level0 col1\" >rating delta</th>\n",
       "      <th id=\"T_7d5b4_level0_col2\" class=\"col_heading level0 col2\" >pps delta</th>\n",
       "      <th id=\"T_7d5b4_level0_col3\" class=\"col_heading level0 col3\" >vs delta</th>\n",
       "    </tr>\n",
       "  </thead>\n",
       "  <tbody>\n",
       "    <tr>\n",
       "      <th id=\"T_7d5b4_level0_row0\" class=\"row_heading level0 row0\" >wr delta</th>\n",
       "      <td id=\"T_7d5b4_row0_col0\" class=\"data row0 col0\" >1.000000</td>\n",
       "      <td id=\"T_7d5b4_row0_col1\" class=\"data row0 col1\" >0.351434</td>\n",
       "      <td id=\"T_7d5b4_row0_col2\" class=\"data row0 col2\" >0.111456</td>\n",
       "      <td id=\"T_7d5b4_row0_col3\" class=\"data row0 col3\" >0.264498</td>\n",
       "    </tr>\n",
       "    <tr>\n",
       "      <th id=\"T_7d5b4_level0_row1\" class=\"row_heading level0 row1\" >rating delta</th>\n",
       "      <td id=\"T_7d5b4_row1_col0\" class=\"data row1 col0\" >0.351434</td>\n",
       "      <td id=\"T_7d5b4_row1_col1\" class=\"data row1 col1\" >1.000000</td>\n",
       "      <td id=\"T_7d5b4_row1_col2\" class=\"data row1 col2\" >0.256996</td>\n",
       "      <td id=\"T_7d5b4_row1_col3\" class=\"data row1 col3\" >0.498696</td>\n",
       "    </tr>\n",
       "    <tr>\n",
       "      <th id=\"T_7d5b4_level0_row2\" class=\"row_heading level0 row2\" >pps delta</th>\n",
       "      <td id=\"T_7d5b4_row2_col0\" class=\"data row2 col0\" >0.111456</td>\n",
       "      <td id=\"T_7d5b4_row2_col1\" class=\"data row2 col1\" >0.256996</td>\n",
       "      <td id=\"T_7d5b4_row2_col2\" class=\"data row2 col2\" >1.000000</td>\n",
       "      <td id=\"T_7d5b4_row2_col3\" class=\"data row2 col3\" >0.348153</td>\n",
       "    </tr>\n",
       "    <tr>\n",
       "      <th id=\"T_7d5b4_level0_row3\" class=\"row_heading level0 row3\" >vs delta</th>\n",
       "      <td id=\"T_7d5b4_row3_col0\" class=\"data row3 col0\" >0.264498</td>\n",
       "      <td id=\"T_7d5b4_row3_col1\" class=\"data row3 col1\" >0.498696</td>\n",
       "      <td id=\"T_7d5b4_row3_col2\" class=\"data row3 col2\" >0.348153</td>\n",
       "      <td id=\"T_7d5b4_row3_col3\" class=\"data row3 col3\" >1.000000</td>\n",
       "    </tr>\n",
       "  </tbody>\n",
       "</table>\n"
      ],
      "text/plain": [
       "<pandas.io.formats.style.Styler at 0x7f2297586740>"
      ]
     },
     "execution_count": 25,
     "metadata": {},
     "output_type": "execute_result"
    }
   ],
   "source": [
    "cleaned_data[features3].corr().style.background_gradient(cmap=cm)"
   ]
  },
  {
   "attachments": {},
   "cell_type": "markdown",
   "metadata": {},
   "source": [
    "**Modifying the Data**\n",
    "\n",
    "When the data was retrieved, the winner of the match was always the first player, which is the player that has a winrate of wr0, and the loser of the match was always the second player.  \n",
    "\n",
    "As a result, the winner was always 0 and never 1. So I'm going to flip half of the data so that the player who has a winrate of wr0 is the player that loses.\n",
    "\n",
    "The data ranges are quite different between features, for instance the avg rating feature ranges from 100 to 25000 while the range for pps delta is around 1. I will use min max normalization to scale the data to help with gradient descent."
   ]
  },
  {
   "cell_type": "code",
   "execution_count": 26,
   "metadata": {},
   "outputs": [
    {
     "name": "stderr",
     "output_type": "stream",
     "text": [
      "/tmp/ipykernel_158647/739510907.py:6: SettingWithCopyWarning: \n",
      "A value is trying to be set on a copy of a slice from a DataFrame.\n",
      "Try using .loc[row_indexer,col_indexer] = value instead\n",
      "\n",
      "See the caveats in the documentation: https://pandas.pydata.org/pandas-docs/stable/user_guide/indexing.html#returning-a-view-versus-a-copy\n",
      "  flip_data['winner'] = np.zeros(m, dtype='int')\n"
     ]
    },
    {
     "name": "stdout",
     "output_type": "stream",
     "text": [
      "459899\n"
     ]
    },
    {
     "name": "stderr",
     "output_type": "stream",
     "text": [
      "100%|██████████| 459899/459899 [00:26<00:00, 17418.83it/s]\n"
     ]
    }
   ],
   "source": [
    "flip_data = cleaned_data[['wr delta','rating delta', 'pps delta', 'vs delta']]\n",
    "# Flip data\n",
    "m = flip_data.shape[0]\n",
    "print(m)\n",
    "\n",
    "flip_data['winner'] = np.zeros(m, dtype='int')\n",
    "for i in tqdm(range(m)):\n",
    "    if (i % 2 == 1):\n",
    "        flip_data.iat[i,0] *= -1\n",
    "        flip_data.iat[i, 1] *= -1\n",
    "        flip_data.iat[i, 2] *= -1\n",
    "        flip_data.iat[i, 3] *= -1\n",
    "        flip_data.iat[i, 4] = 1\n",
    "flip_data.to_csv('./flip_data.csv')"
   ]
  },
  {
   "cell_type": "code",
   "execution_count": 38,
   "metadata": {},
   "outputs": [],
   "source": [
    "# Scale Data\n",
    "def min_max (column):\n",
    "    min = column.min()\n",
    "    max = column.max()\n",
    "\n",
    "    norm = (column - min) / (max - min)\n",
    "\n",
    "    return norm\n",
    "\n",
    "flip_data = pd.read_csv('./flip_data.csv')\n",
    "n = flip_data.shape[1]\n",
    "final_data = pd.DataFrame()\n",
    "final_data['count'] = [i for i in range(m)]\n",
    "final_data.set_index('count', inplace=True)\n",
    "\n",
    "final_data['wr delta'] = min_max(flip_data['wr delta'])\n",
    "final_data['rating delta'] = min_max(flip_data['rating delta'])\n",
    "final_data['pps delta'] = min_max(flip_data['pps delta'])\n",
    "final_data['vs delta'] = min_max(flip_data['vs delta'])\n",
    "final_data['winner'] = flip_data['winner']\n",
    "\n",
    "final_data.to_csv('./final_data.csv')"
   ]
  }
 ],
 "metadata": {
  "kernelspec": {
   "display_name": "Python 3",
   "language": "python",
   "name": "python3"
  },
  "language_info": {
   "codemirror_mode": {
    "name": "ipython",
    "version": 3
   },
   "file_extension": ".py",
   "mimetype": "text/x-python",
   "name": "python",
   "nbconvert_exporter": "python",
   "pygments_lexer": "ipython3",
   "version": "3.10.6"
  },
  "orig_nbformat": 4
 },
 "nbformat": 4,
 "nbformat_minor": 2
}
